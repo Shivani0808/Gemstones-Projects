{
 "cells": [
  {
   "cell_type": "code",
   "execution_count": 1,
   "id": "e6d0d61f",
   "metadata": {},
   "outputs": [],
   "source": [
    "import pandas as pd\n",
    "import numpy as np\n",
    "import seaborn as sns\n",
    "import matplotlib.pyplot as plt"
   ]
  },
  {
   "cell_type": "code",
   "execution_count": 2,
   "id": "0931231b",
   "metadata": {},
   "outputs": [],
   "source": [
    "df=pd.read_csv(\"C:/Users/DHRUTI/Downloads/archive(2)/carclaims.csv\")"
   ]
  },
  {
   "cell_type": "code",
   "execution_count": 3,
   "id": "3abfd753",
   "metadata": {},
   "outputs": [],
   "source": [
    "# df.columns"
   ]
  },
  {
   "cell_type": "code",
   "execution_count": 4,
   "id": "7bcd5d77",
   "metadata": {},
   "outputs": [],
   "source": [
    "# df.shape"
   ]
  },
  {
   "cell_type": "code",
   "execution_count": 5,
   "id": "70314330",
   "metadata": {},
   "outputs": [],
   "source": [
    "# df.info()"
   ]
  },
  {
   "cell_type": "code",
   "execution_count": 6,
   "id": "366d57de",
   "metadata": {},
   "outputs": [],
   "source": [
    "#FraudFound --> TARGET VARIABLE"
   ]
  },
  {
   "cell_type": "code",
   "execution_count": 7,
   "id": "8145c96e",
   "metadata": {},
   "outputs": [],
   "source": [
    "#Data Analysis"
   ]
  },
  {
   "cell_type": "code",
   "execution_count": 8,
   "id": "7b861714",
   "metadata": {},
   "outputs": [],
   "source": [
    "# sns.countplot(df['FraudFound'])"
   ]
  },
  {
   "cell_type": "code",
   "execution_count": 9,
   "id": "c2fc7e6e",
   "metadata": {},
   "outputs": [
    {
     "data": {
      "text/plain": [
       "No     14497\n",
       "Yes      923\n",
       "Name: FraudFound, dtype: int64"
      ]
     },
     "execution_count": 9,
     "metadata": {},
     "output_type": "execute_result"
    }
   ],
   "source": [
    "df['FraudFound'].value_counts()"
   ]
  },
  {
   "cell_type": "code",
   "execution_count": 10,
   "id": "a98fa9a2",
   "metadata": {},
   "outputs": [
    {
     "data": {
      "text/html": [
       "<div>\n",
       "<style scoped>\n",
       "    .dataframe tbody tr th:only-of-type {\n",
       "        vertical-align: middle;\n",
       "    }\n",
       "\n",
       "    .dataframe tbody tr th {\n",
       "        vertical-align: top;\n",
       "    }\n",
       "\n",
       "    .dataframe thead th {\n",
       "        text-align: right;\n",
       "    }\n",
       "</style>\n",
       "<table border=\"1\" class=\"dataframe\">\n",
       "  <thead>\n",
       "    <tr style=\"text-align: right;\">\n",
       "      <th></th>\n",
       "      <th>Month</th>\n",
       "      <th>WeekOfMonth</th>\n",
       "      <th>DayOfWeek</th>\n",
       "      <th>Make</th>\n",
       "      <th>AccidentArea</th>\n",
       "      <th>DayOfWeekClaimed</th>\n",
       "      <th>MonthClaimed</th>\n",
       "      <th>WeekOfMonthClaimed</th>\n",
       "      <th>Sex</th>\n",
       "      <th>MaritalStatus</th>\n",
       "      <th>...</th>\n",
       "      <th>AgeOfPolicyHolder</th>\n",
       "      <th>PoliceReportFiled</th>\n",
       "      <th>WitnessPresent</th>\n",
       "      <th>AgentType</th>\n",
       "      <th>NumberOfSuppliments</th>\n",
       "      <th>AddressChange-Claim</th>\n",
       "      <th>NumberOfCars</th>\n",
       "      <th>Year</th>\n",
       "      <th>BasePolicy</th>\n",
       "      <th>FraudFound</th>\n",
       "    </tr>\n",
       "  </thead>\n",
       "  <tbody>\n",
       "    <tr>\n",
       "      <th>0</th>\n",
       "      <td>Dec</td>\n",
       "      <td>5</td>\n",
       "      <td>Wednesday</td>\n",
       "      <td>Honda</td>\n",
       "      <td>Urban</td>\n",
       "      <td>Tuesday</td>\n",
       "      <td>Jan</td>\n",
       "      <td>1</td>\n",
       "      <td>Female</td>\n",
       "      <td>Single</td>\n",
       "      <td>...</td>\n",
       "      <td>26 to 30</td>\n",
       "      <td>No</td>\n",
       "      <td>No</td>\n",
       "      <td>External</td>\n",
       "      <td>none</td>\n",
       "      <td>1 year</td>\n",
       "      <td>3 to 4</td>\n",
       "      <td>1994</td>\n",
       "      <td>Liability</td>\n",
       "      <td>No</td>\n",
       "    </tr>\n",
       "    <tr>\n",
       "      <th>1</th>\n",
       "      <td>Jan</td>\n",
       "      <td>3</td>\n",
       "      <td>Wednesday</td>\n",
       "      <td>Honda</td>\n",
       "      <td>Urban</td>\n",
       "      <td>Monday</td>\n",
       "      <td>Jan</td>\n",
       "      <td>4</td>\n",
       "      <td>Male</td>\n",
       "      <td>Single</td>\n",
       "      <td>...</td>\n",
       "      <td>31 to 35</td>\n",
       "      <td>Yes</td>\n",
       "      <td>No</td>\n",
       "      <td>External</td>\n",
       "      <td>none</td>\n",
       "      <td>no change</td>\n",
       "      <td>1 vehicle</td>\n",
       "      <td>1994</td>\n",
       "      <td>Collision</td>\n",
       "      <td>No</td>\n",
       "    </tr>\n",
       "    <tr>\n",
       "      <th>2</th>\n",
       "      <td>Oct</td>\n",
       "      <td>5</td>\n",
       "      <td>Friday</td>\n",
       "      <td>Honda</td>\n",
       "      <td>Urban</td>\n",
       "      <td>Thursday</td>\n",
       "      <td>Nov</td>\n",
       "      <td>2</td>\n",
       "      <td>Male</td>\n",
       "      <td>Married</td>\n",
       "      <td>...</td>\n",
       "      <td>41 to 50</td>\n",
       "      <td>No</td>\n",
       "      <td>No</td>\n",
       "      <td>External</td>\n",
       "      <td>none</td>\n",
       "      <td>no change</td>\n",
       "      <td>1 vehicle</td>\n",
       "      <td>1994</td>\n",
       "      <td>Collision</td>\n",
       "      <td>No</td>\n",
       "    </tr>\n",
       "    <tr>\n",
       "      <th>3</th>\n",
       "      <td>Jun</td>\n",
       "      <td>2</td>\n",
       "      <td>Saturday</td>\n",
       "      <td>Toyota</td>\n",
       "      <td>Rural</td>\n",
       "      <td>Friday</td>\n",
       "      <td>Jul</td>\n",
       "      <td>1</td>\n",
       "      <td>Male</td>\n",
       "      <td>Married</td>\n",
       "      <td>...</td>\n",
       "      <td>51 to 65</td>\n",
       "      <td>Yes</td>\n",
       "      <td>No</td>\n",
       "      <td>External</td>\n",
       "      <td>more than 5</td>\n",
       "      <td>no change</td>\n",
       "      <td>1 vehicle</td>\n",
       "      <td>1994</td>\n",
       "      <td>Liability</td>\n",
       "      <td>No</td>\n",
       "    </tr>\n",
       "    <tr>\n",
       "      <th>4</th>\n",
       "      <td>Jan</td>\n",
       "      <td>5</td>\n",
       "      <td>Monday</td>\n",
       "      <td>Honda</td>\n",
       "      <td>Urban</td>\n",
       "      <td>Tuesday</td>\n",
       "      <td>Feb</td>\n",
       "      <td>2</td>\n",
       "      <td>Female</td>\n",
       "      <td>Single</td>\n",
       "      <td>...</td>\n",
       "      <td>31 to 35</td>\n",
       "      <td>No</td>\n",
       "      <td>No</td>\n",
       "      <td>External</td>\n",
       "      <td>none</td>\n",
       "      <td>no change</td>\n",
       "      <td>1 vehicle</td>\n",
       "      <td>1994</td>\n",
       "      <td>Collision</td>\n",
       "      <td>No</td>\n",
       "    </tr>\n",
       "  </tbody>\n",
       "</table>\n",
       "<p>5 rows × 33 columns</p>\n",
       "</div>"
      ],
      "text/plain": [
       "  Month  WeekOfMonth  DayOfWeek    Make AccidentArea DayOfWeekClaimed  \\\n",
       "0   Dec            5  Wednesday   Honda        Urban          Tuesday   \n",
       "1   Jan            3  Wednesday   Honda        Urban           Monday   \n",
       "2   Oct            5     Friday   Honda        Urban         Thursday   \n",
       "3   Jun            2   Saturday  Toyota        Rural           Friday   \n",
       "4   Jan            5     Monday   Honda        Urban          Tuesday   \n",
       "\n",
       "  MonthClaimed  WeekOfMonthClaimed     Sex MaritalStatus  ...  \\\n",
       "0          Jan                   1  Female        Single  ...   \n",
       "1          Jan                   4    Male        Single  ...   \n",
       "2          Nov                   2    Male       Married  ...   \n",
       "3          Jul                   1    Male       Married  ...   \n",
       "4          Feb                   2  Female        Single  ...   \n",
       "\n",
       "   AgeOfPolicyHolder PoliceReportFiled WitnessPresent AgentType  \\\n",
       "0           26 to 30                No             No  External   \n",
       "1           31 to 35               Yes             No  External   \n",
       "2           41 to 50                No             No  External   \n",
       "3           51 to 65               Yes             No  External   \n",
       "4           31 to 35                No             No  External   \n",
       "\n",
       "  NumberOfSuppliments  AddressChange-Claim  NumberOfCars  Year  BasePolicy  \\\n",
       "0                none               1 year        3 to 4  1994   Liability   \n",
       "1                none            no change     1 vehicle  1994   Collision   \n",
       "2                none            no change     1 vehicle  1994   Collision   \n",
       "3         more than 5            no change     1 vehicle  1994   Liability   \n",
       "4                none            no change     1 vehicle  1994   Collision   \n",
       "\n",
       "  FraudFound  \n",
       "0         No  \n",
       "1         No  \n",
       "2         No  \n",
       "3         No  \n",
       "4         No  \n",
       "\n",
       "[5 rows x 33 columns]"
      ]
     },
     "execution_count": 10,
     "metadata": {},
     "output_type": "execute_result"
    }
   ],
   "source": [
    "df.head()"
   ]
  },
  {
   "cell_type": "code",
   "execution_count": 11,
   "id": "9cba768e",
   "metadata": {},
   "outputs": [
    {
     "data": {
      "text/plain": [
       "Jan    1411\n",
       "May    1367\n",
       "Mar    1360\n",
       "Jun    1321\n",
       "Oct    1305\n",
       "Dec    1285\n",
       "Apr    1280\n",
       "Feb    1266\n",
       "Jul    1257\n",
       "Sep    1240\n",
       "Nov    1201\n",
       "Aug    1127\n",
       "Name: Month, dtype: int64"
      ]
     },
     "execution_count": 11,
     "metadata": {},
     "output_type": "execute_result"
    }
   ],
   "source": [
    "df['Month'].value_counts()"
   ]
  },
  {
   "cell_type": "code",
   "execution_count": 12,
   "id": "8e02fcac",
   "metadata": {},
   "outputs": [
    {
     "data": {
      "text/plain": [
       "3    3640\n",
       "2    3558\n",
       "4    3398\n",
       "1    3187\n",
       "5    1637\n",
       "Name: WeekOfMonth, dtype: int64"
      ]
     },
     "execution_count": 12,
     "metadata": {},
     "output_type": "execute_result"
    }
   ],
   "source": [
    "df['WeekOfMonth'].value_counts()"
   ]
  },
  {
   "cell_type": "code",
   "execution_count": 13,
   "id": "58312796",
   "metadata": {},
   "outputs": [
    {
     "data": {
      "text/plain": [
       "Monday       2616\n",
       "Friday       2445\n",
       "Tuesday      2300\n",
       "Thursday     2173\n",
       "Wednesday    2159\n",
       "Saturday     1982\n",
       "Sunday       1745\n",
       "Name: DayOfWeek, dtype: int64"
      ]
     },
     "execution_count": 13,
     "metadata": {},
     "output_type": "execute_result"
    }
   ],
   "source": [
    "df['DayOfWeek'].value_counts()"
   ]
  },
  {
   "cell_type": "code",
   "execution_count": 14,
   "id": "a4fec2e7",
   "metadata": {},
   "outputs": [
    {
     "data": {
      "text/plain": [
       "Pontiac      3837\n",
       "Toyota       3121\n",
       "Honda        2801\n",
       "Mazda        2354\n",
       "Chevrolet    1681\n",
       "Accura        472\n",
       "Ford          450\n",
       "VW            283\n",
       "Dodge         109\n",
       "Saab          108\n",
       "Mercury        83\n",
       "Saturn         58\n",
       "Nisson         30\n",
       "BMW            15\n",
       "Jaguar          6\n",
       "Porche          5\n",
       "Mecedes         4\n",
       "Ferrari         2\n",
       "Lexus           1\n",
       "Name: Make, dtype: int64"
      ]
     },
     "execution_count": 14,
     "metadata": {},
     "output_type": "execute_result"
    }
   ],
   "source": [
    "df['Make'].value_counts()"
   ]
  },
  {
   "cell_type": "code",
   "execution_count": 15,
   "id": "3db6843e",
   "metadata": {},
   "outputs": [
    {
     "data": {
      "text/plain": [
       "19"
      ]
     },
     "execution_count": 15,
     "metadata": {},
     "output_type": "execute_result"
    }
   ],
   "source": [
    "df['Make'].nunique()"
   ]
  },
  {
   "cell_type": "code",
   "execution_count": 16,
   "id": "42a0093b",
   "metadata": {},
   "outputs": [
    {
     "data": {
      "text/plain": [
       "Urban    13822\n",
       "Rural     1598\n",
       "Name: AccidentArea, dtype: int64"
      ]
     },
     "execution_count": 16,
     "metadata": {},
     "output_type": "execute_result"
    }
   ],
   "source": [
    "df['AccidentArea'].value_counts()"
   ]
  },
  {
   "cell_type": "code",
   "execution_count": 17,
   "id": "91cd8ea6",
   "metadata": {},
   "outputs": [
    {
     "data": {
      "text/plain": [
       "0        21\n",
       "1        34\n",
       "2        47\n",
       "3        65\n",
       "4        27\n",
       "         ..\n",
       "15415    35\n",
       "15416    30\n",
       "15417    24\n",
       "15418    34\n",
       "15419    21\n",
       "Name: Age, Length: 15420, dtype: int64"
      ]
     },
     "execution_count": 17,
     "metadata": {},
     "output_type": "execute_result"
    }
   ],
   "source": [
    "df['Age']"
   ]
  },
  {
   "cell_type": "code",
   "execution_count": 18,
   "id": "2d62bf8e",
   "metadata": {},
   "outputs": [
    {
     "data": {
      "text/plain": [
       "Monday       3757\n",
       "Tuesday      3375\n",
       "Wednesday    2951\n",
       "Thursday     2660\n",
       "Friday       2497\n",
       "Saturday      127\n",
       "Sunday         52\n",
       "0               1\n",
       "Name: DayOfWeekClaimed, dtype: int64"
      ]
     },
     "execution_count": 18,
     "metadata": {},
     "output_type": "execute_result"
    }
   ],
   "source": [
    "df['DayOfWeekClaimed'].value_counts()"
   ]
  },
  {
   "cell_type": "code",
   "execution_count": 19,
   "id": "a48683a1",
   "metadata": {},
   "outputs": [
    {
     "data": {
      "text/plain": [
       "Jan    1446\n",
       "May    1411\n",
       "Mar    1348\n",
       "Oct    1339\n",
       "Jun    1293\n",
       "Feb    1287\n",
       "Nov    1285\n",
       "Apr    1271\n",
       "Sep    1242\n",
       "Jul    1225\n",
       "Dec    1146\n",
       "Aug    1126\n",
       "0         1\n",
       "Name: MonthClaimed, dtype: int64"
      ]
     },
     "execution_count": 19,
     "metadata": {},
     "output_type": "execute_result"
    }
   ],
   "source": [
    "df['MonthClaimed'].value_counts()"
   ]
  },
  {
   "cell_type": "code",
   "execution_count": 20,
   "id": "35e9ccff",
   "metadata": {},
   "outputs": [
    {
     "data": {
      "text/plain": [
       "2    3720\n",
       "3    3583\n",
       "1    3450\n",
       "4    3433\n",
       "5    1234\n",
       "Name: WeekOfMonthClaimed, dtype: int64"
      ]
     },
     "execution_count": 20,
     "metadata": {},
     "output_type": "execute_result"
    }
   ],
   "source": [
    "df['WeekOfMonthClaimed'].value_counts()"
   ]
  },
  {
   "cell_type": "code",
   "execution_count": 21,
   "id": "fedc7784",
   "metadata": {},
   "outputs": [
    {
     "data": {
      "text/plain": [
       "30    596\n",
       "33    574\n",
       "34    573\n",
       "35    569\n",
       "28    560\n",
       "     ... \n",
       "20     28\n",
       "70     27\n",
       "79     20\n",
       "16      9\n",
       "17      6\n",
       "Name: Age, Length: 66, dtype: int64"
      ]
     },
     "execution_count": 21,
     "metadata": {},
     "output_type": "execute_result"
    }
   ],
   "source": [
    "df['Age'].value_counts()"
   ]
  },
  {
   "cell_type": "code",
   "execution_count": 22,
   "id": "3cf66dfe",
   "metadata": {},
   "outputs": [
    {
     "data": {
      "text/html": [
       "<div>\n",
       "<style scoped>\n",
       "    .dataframe tbody tr th:only-of-type {\n",
       "        vertical-align: middle;\n",
       "    }\n",
       "\n",
       "    .dataframe tbody tr th {\n",
       "        vertical-align: top;\n",
       "    }\n",
       "\n",
       "    .dataframe thead th {\n",
       "        text-align: right;\n",
       "    }\n",
       "</style>\n",
       "<table border=\"1\" class=\"dataframe\">\n",
       "  <thead>\n",
       "    <tr style=\"text-align: right;\">\n",
       "      <th></th>\n",
       "      <th>Month</th>\n",
       "      <th>WeekOfMonth</th>\n",
       "      <th>DayOfWeek</th>\n",
       "      <th>Make</th>\n",
       "      <th>AccidentArea</th>\n",
       "      <th>DayOfWeekClaimed</th>\n",
       "      <th>MonthClaimed</th>\n",
       "      <th>WeekOfMonthClaimed</th>\n",
       "      <th>Sex</th>\n",
       "      <th>MaritalStatus</th>\n",
       "      <th>...</th>\n",
       "      <th>AgeOfPolicyHolder</th>\n",
       "      <th>PoliceReportFiled</th>\n",
       "      <th>WitnessPresent</th>\n",
       "      <th>AgentType</th>\n",
       "      <th>NumberOfSuppliments</th>\n",
       "      <th>AddressChange-Claim</th>\n",
       "      <th>NumberOfCars</th>\n",
       "      <th>Year</th>\n",
       "      <th>BasePolicy</th>\n",
       "      <th>FraudFound</th>\n",
       "    </tr>\n",
       "  </thead>\n",
       "  <tbody>\n",
       "    <tr>\n",
       "      <th>0</th>\n",
       "      <td>Dec</td>\n",
       "      <td>5</td>\n",
       "      <td>Wednesday</td>\n",
       "      <td>Honda</td>\n",
       "      <td>Urban</td>\n",
       "      <td>Tuesday</td>\n",
       "      <td>Jan</td>\n",
       "      <td>1</td>\n",
       "      <td>Female</td>\n",
       "      <td>Single</td>\n",
       "      <td>...</td>\n",
       "      <td>26 to 30</td>\n",
       "      <td>No</td>\n",
       "      <td>No</td>\n",
       "      <td>External</td>\n",
       "      <td>none</td>\n",
       "      <td>1 year</td>\n",
       "      <td>3 to 4</td>\n",
       "      <td>1994</td>\n",
       "      <td>Liability</td>\n",
       "      <td>No</td>\n",
       "    </tr>\n",
       "    <tr>\n",
       "      <th>1</th>\n",
       "      <td>Jan</td>\n",
       "      <td>3</td>\n",
       "      <td>Wednesday</td>\n",
       "      <td>Honda</td>\n",
       "      <td>Urban</td>\n",
       "      <td>Monday</td>\n",
       "      <td>Jan</td>\n",
       "      <td>4</td>\n",
       "      <td>Male</td>\n",
       "      <td>Single</td>\n",
       "      <td>...</td>\n",
       "      <td>31 to 35</td>\n",
       "      <td>Yes</td>\n",
       "      <td>No</td>\n",
       "      <td>External</td>\n",
       "      <td>none</td>\n",
       "      <td>no change</td>\n",
       "      <td>1 vehicle</td>\n",
       "      <td>1994</td>\n",
       "      <td>Collision</td>\n",
       "      <td>No</td>\n",
       "    </tr>\n",
       "    <tr>\n",
       "      <th>2</th>\n",
       "      <td>Oct</td>\n",
       "      <td>5</td>\n",
       "      <td>Friday</td>\n",
       "      <td>Honda</td>\n",
       "      <td>Urban</td>\n",
       "      <td>Thursday</td>\n",
       "      <td>Nov</td>\n",
       "      <td>2</td>\n",
       "      <td>Male</td>\n",
       "      <td>Married</td>\n",
       "      <td>...</td>\n",
       "      <td>41 to 50</td>\n",
       "      <td>No</td>\n",
       "      <td>No</td>\n",
       "      <td>External</td>\n",
       "      <td>none</td>\n",
       "      <td>no change</td>\n",
       "      <td>1 vehicle</td>\n",
       "      <td>1994</td>\n",
       "      <td>Collision</td>\n",
       "      <td>No</td>\n",
       "    </tr>\n",
       "    <tr>\n",
       "      <th>3</th>\n",
       "      <td>Jun</td>\n",
       "      <td>2</td>\n",
       "      <td>Saturday</td>\n",
       "      <td>Toyota</td>\n",
       "      <td>Rural</td>\n",
       "      <td>Friday</td>\n",
       "      <td>Jul</td>\n",
       "      <td>1</td>\n",
       "      <td>Male</td>\n",
       "      <td>Married</td>\n",
       "      <td>...</td>\n",
       "      <td>51 to 65</td>\n",
       "      <td>Yes</td>\n",
       "      <td>No</td>\n",
       "      <td>External</td>\n",
       "      <td>more than 5</td>\n",
       "      <td>no change</td>\n",
       "      <td>1 vehicle</td>\n",
       "      <td>1994</td>\n",
       "      <td>Liability</td>\n",
       "      <td>No</td>\n",
       "    </tr>\n",
       "    <tr>\n",
       "      <th>4</th>\n",
       "      <td>Jan</td>\n",
       "      <td>5</td>\n",
       "      <td>Monday</td>\n",
       "      <td>Honda</td>\n",
       "      <td>Urban</td>\n",
       "      <td>Tuesday</td>\n",
       "      <td>Feb</td>\n",
       "      <td>2</td>\n",
       "      <td>Female</td>\n",
       "      <td>Single</td>\n",
       "      <td>...</td>\n",
       "      <td>31 to 35</td>\n",
       "      <td>No</td>\n",
       "      <td>No</td>\n",
       "      <td>External</td>\n",
       "      <td>none</td>\n",
       "      <td>no change</td>\n",
       "      <td>1 vehicle</td>\n",
       "      <td>1994</td>\n",
       "      <td>Collision</td>\n",
       "      <td>No</td>\n",
       "    </tr>\n",
       "  </tbody>\n",
       "</table>\n",
       "<p>5 rows × 33 columns</p>\n",
       "</div>"
      ],
      "text/plain": [
       "  Month  WeekOfMonth  DayOfWeek    Make AccidentArea DayOfWeekClaimed  \\\n",
       "0   Dec            5  Wednesday   Honda        Urban          Tuesday   \n",
       "1   Jan            3  Wednesday   Honda        Urban           Monday   \n",
       "2   Oct            5     Friday   Honda        Urban         Thursday   \n",
       "3   Jun            2   Saturday  Toyota        Rural           Friday   \n",
       "4   Jan            5     Monday   Honda        Urban          Tuesday   \n",
       "\n",
       "  MonthClaimed  WeekOfMonthClaimed     Sex MaritalStatus  ...  \\\n",
       "0          Jan                   1  Female        Single  ...   \n",
       "1          Jan                   4    Male        Single  ...   \n",
       "2          Nov                   2    Male       Married  ...   \n",
       "3          Jul                   1    Male       Married  ...   \n",
       "4          Feb                   2  Female        Single  ...   \n",
       "\n",
       "   AgeOfPolicyHolder PoliceReportFiled WitnessPresent AgentType  \\\n",
       "0           26 to 30                No             No  External   \n",
       "1           31 to 35               Yes             No  External   \n",
       "2           41 to 50                No             No  External   \n",
       "3           51 to 65               Yes             No  External   \n",
       "4           31 to 35                No             No  External   \n",
       "\n",
       "  NumberOfSuppliments  AddressChange-Claim  NumberOfCars  Year  BasePolicy  \\\n",
       "0                none               1 year        3 to 4  1994   Liability   \n",
       "1                none            no change     1 vehicle  1994   Collision   \n",
       "2                none            no change     1 vehicle  1994   Collision   \n",
       "3         more than 5            no change     1 vehicle  1994   Liability   \n",
       "4                none            no change     1 vehicle  1994   Collision   \n",
       "\n",
       "  FraudFound  \n",
       "0         No  \n",
       "1         No  \n",
       "2         No  \n",
       "3         No  \n",
       "4         No  \n",
       "\n",
       "[5 rows x 33 columns]"
      ]
     },
     "execution_count": 22,
     "metadata": {},
     "output_type": "execute_result"
    }
   ],
   "source": [
    "df.head()"
   ]
  },
  {
   "cell_type": "code",
   "execution_count": 23,
   "id": "86324ed0",
   "metadata": {},
   "outputs": [
    {
     "data": {
      "text/plain": [
       "Sedan - Collision       5584\n",
       "Sedan - Liability       4987\n",
       "Sedan - All Perils      4087\n",
       "Sport - Collision        348\n",
       "Utility - All Perils     340\n",
       "Utility - Collision       30\n",
       "Sport - All Perils        22\n",
       "Utility - Liability       21\n",
       "Sport - Liability          1\n",
       "Name: PolicyType, dtype: int64"
      ]
     },
     "execution_count": 23,
     "metadata": {},
     "output_type": "execute_result"
    }
   ],
   "source": [
    "df['PolicyType'].value_counts()"
   ]
  },
  {
   "cell_type": "code",
   "execution_count": 24,
   "id": "f637896f",
   "metadata": {},
   "outputs": [
    {
     "data": {
      "text/plain": [
       "Sedan      9671\n",
       "Sport      5358\n",
       "Utility     391\n",
       "Name: VehicleCategory, dtype: int64"
      ]
     },
     "execution_count": 24,
     "metadata": {},
     "output_type": "execute_result"
    }
   ],
   "source": [
    "df['VehicleCategory'].value_counts()"
   ]
  },
  {
   "cell_type": "code",
   "execution_count": 25,
   "id": "b5fa615a",
   "metadata": {},
   "outputs": [
    {
     "data": {
      "text/plain": [
       "400    14838\n",
       "700      311\n",
       "500      263\n",
       "300        8\n",
       "Name: Deductible, dtype: int64"
      ]
     },
     "execution_count": 25,
     "metadata": {},
     "output_type": "execute_result"
    }
   ],
   "source": [
    "df['Deductible'].value_counts()"
   ]
  },
  {
   "cell_type": "code",
   "execution_count": 26,
   "id": "3ab5a5e4",
   "metadata": {},
   "outputs": [],
   "source": [
    "# data conversion"
   ]
  },
  {
   "cell_type": "markdown",
   "id": "5ba9cfee",
   "metadata": {},
   "source": []
  },
  {
   "cell_type": "raw",
   "id": "36c0d3d7",
   "metadata": {},
   "source": [
    "'Month', ----->map\n",
    "'WeekOfMonth', \n",
    "'DayOfWeek', ----->map\n",
    "'Make', --> label encoding\n",
    "'AccidentArea', --> dummies \n",
    "'DayOfWeekClaimed',----->map \n",
    "'MonthClaimed', ----->map\n",
    "'WeekOfMonthClaimed'\n",
    "'Sex', --> dummies \n",
    "'MaritalStatus'--> label encoding \n",
    "'Age' \n",
    "'Fault' --> dummies\n",
    "    'PolicyType',  -->this one is a union of \"VehicleCategory\" and \"BasePolicy\", so in this case, we remove this one.\n",
    "    'VehicleCategory',--> label encoding\n",
    "       'VehiclePrice', -> more than, range\n",
    "        'PolicyNumber', --> continous unique\n",
    "        'RepNumber', -->\n",
    "        'Deductible',\n",
    "       'DriverRating',\n",
    "    'Days:Policy-Accident', --> more than , range\n",
    "    'Days:Policy-Claim', --> more than ,range\n",
    "       'PastNumberOfClaims',  --> more than ,none\n",
    "        'AgeOfVehicle', --> morethan, years string\n",
    "        'AgeOfPolicyHolder', --> range --> mean?\n",
    "       'PoliceReportFiled', --> dummies\n",
    "    'WitnessPresent', -->dummies\n",
    "    'AgentType',-->dummies\n",
    "       'NumberOfSuppliments',--> none, range,more than\n",
    "        'AddressChange-Claim', --> years string, no change, range\n",
    "        'NumberOfCars',--> rainge, vehicle string\n",
    "        'Year',\n",
    "       'BasePolicy', -->label encoding \n",
    "    'FraudFound'-->dummies"
   ]
  },
  {
   "cell_type": "code",
   "execution_count": 27,
   "id": "97d6874f",
   "metadata": {},
   "outputs": [
    {
     "data": {
      "text/plain": [
       "array(['Jan', 'Nov', 'Jul', 'Feb', 'Mar', 'Dec', 'Apr', 'Aug', 'May',\n",
       "       'Jun', 'Sep', 'Oct', '0'], dtype=object)"
      ]
     },
     "execution_count": 27,
     "metadata": {},
     "output_type": "execute_result"
    }
   ],
   "source": [
    "df['Month'].unique()\n",
    "df['DayOfWeek'].unique()\n",
    "df['DayOfWeekClaimed'].unique()\n",
    "df['MonthClaimed'].unique()"
   ]
  },
  {
   "cell_type": "code",
   "execution_count": 28,
   "id": "0eb9bb2d",
   "metadata": {},
   "outputs": [],
   "source": [
    "# month_dict={'Dec':12, 'Jan':1, 'Oct':10, 'Jun':6, 'Feb':2, 'Nov':12, 'Apr':4, 'Mar':3, 'Aug':8,\n",
    "#        'Jul':7, 'May':5, 'Sep':9}\n",
    "# dow_dict={'Wednesday':3, 'Friday':5, 'Saturday':6, 'Monday':1, 'Tuesday':2, 'Sunday':7,\n",
    "#        'Thursday':4}\n",
    "# dowc_dict={'Wednesday':3, 'Friday':5, 'Saturday':6, 'Monday':1, 'Tuesday':2, 'Sunday':7,\n",
    "#        'Thursday':4}\n",
    "# monthc_dict={'Dec':12, 'Jan':1, 'Oct':10, 'Jun':6, 'Feb':2, 'Nov':12, 'Apr':4, 'Mar':3, 'Aug':8,\n",
    "#        'Jul':7, 'May':5, 'Sep':9}"
   ]
  },
  {
   "cell_type": "code",
   "execution_count": 29,
   "id": "0e114f2a",
   "metadata": {},
   "outputs": [],
   "source": [
    "# df['Month']=df['Month'].map(month_dict)\n",
    "# df['DayOfWeek']=df['DayOfWeek'].map(dow_dict)\n",
    "# df['DayOfWeekClaimed']=df['DayOfWeekClaimed'].map(dowc_dict)\n",
    "# df['MonthClaimed']=df['MonthClaimed'].map(monthc_dict)"
   ]
  },
  {
   "cell_type": "code",
   "execution_count": 30,
   "id": "58cf03c1",
   "metadata": {},
   "outputs": [
    {
     "data": {
      "text/plain": [
       "0        Dec\n",
       "1        Jan\n",
       "2        Oct\n",
       "3        Jun\n",
       "4        Jan\n",
       "        ... \n",
       "15415    Nov\n",
       "15416    Nov\n",
       "15417    Nov\n",
       "15418    Dec\n",
       "15419    Dec\n",
       "Name: Month, Length: 15420, dtype: object"
      ]
     },
     "execution_count": 30,
     "metadata": {},
     "output_type": "execute_result"
    }
   ],
   "source": [
    "df['Month']"
   ]
  },
  {
   "cell_type": "code",
   "execution_count": 31,
   "id": "736e6aaa",
   "metadata": {},
   "outputs": [
    {
     "data": {
      "text/plain": [
       "0        Wednesday\n",
       "1        Wednesday\n",
       "2           Friday\n",
       "3         Saturday\n",
       "4           Monday\n",
       "           ...    \n",
       "15415       Friday\n",
       "15416     Thursday\n",
       "15417     Thursday\n",
       "15418       Monday\n",
       "15419    Wednesday\n",
       "Name: DayOfWeek, Length: 15420, dtype: object"
      ]
     },
     "execution_count": 31,
     "metadata": {},
     "output_type": "execute_result"
    }
   ],
   "source": [
    "df['DayOfWeek']"
   ]
  },
  {
   "cell_type": "code",
   "execution_count": 32,
   "id": "e79d10e1",
   "metadata": {},
   "outputs": [
    {
     "data": {
      "text/plain": [
       "0         Tuesday\n",
       "1          Monday\n",
       "2        Thursday\n",
       "3          Friday\n",
       "4         Tuesday\n",
       "           ...   \n",
       "15415     Tuesday\n",
       "15416      Friday\n",
       "15417      Friday\n",
       "15418    Thursday\n",
       "15419    Thursday\n",
       "Name: DayOfWeekClaimed, Length: 15420, dtype: object"
      ]
     },
     "execution_count": 32,
     "metadata": {},
     "output_type": "execute_result"
    }
   ],
   "source": [
    "df['DayOfWeekClaimed']"
   ]
  },
  {
   "cell_type": "code",
   "execution_count": 33,
   "id": "212a8ae5",
   "metadata": {},
   "outputs": [
    {
     "data": {
      "text/plain": [
       "0        Jan\n",
       "1        Jan\n",
       "2        Nov\n",
       "3        Jul\n",
       "4        Feb\n",
       "        ... \n",
       "15415    Nov\n",
       "15416    Dec\n",
       "15417    Dec\n",
       "15418    Dec\n",
       "15419    Dec\n",
       "Name: MonthClaimed, Length: 15420, dtype: object"
      ]
     },
     "execution_count": 33,
     "metadata": {},
     "output_type": "execute_result"
    }
   ],
   "source": [
    "df['MonthClaimed']"
   ]
  },
  {
   "cell_type": "code",
   "execution_count": 34,
   "id": "0f0b9b5e",
   "metadata": {},
   "outputs": [],
   "source": [
    "# df1=pd.get_dummies(df,columns=['AccidentArea','Sex','Fault','PoliceReportFiled','WitnessPresent','AgentType'],drop_first=True)"
   ]
  },
  {
   "cell_type": "code",
   "execution_count": 35,
   "id": "c80685fa",
   "metadata": {},
   "outputs": [],
   "source": [
    "# df1.info()"
   ]
  },
  {
   "cell_type": "code",
   "execution_count": 36,
   "id": "757130c4",
   "metadata": {},
   "outputs": [],
   "source": [
    "from sklearn.preprocessing import LabelEncoder"
   ]
  },
  {
   "cell_type": "code",
   "execution_count": 37,
   "id": "7b4ed317",
   "metadata": {},
   "outputs": [],
   "source": [
    "le=LabelEncoder()"
   ]
  },
  {
   "cell_type": "code",
   "execution_count": 38,
   "id": "e66a85ae",
   "metadata": {},
   "outputs": [],
   "source": [
    "# df1['Make']=le.fit_transform(df1['Make'])\n",
    "# df1['MaritalStatus']=le.fit_transform(df1['MaritalStatus'])\n",
    "# df1['VehicleCategory']=le.fit_transform(df1['VehicleCategory'])\n",
    "# df1['BasePolicy']=le.fit_transform(df1['BasePolicy'])"
   ]
  },
  {
   "cell_type": "code",
   "execution_count": null,
   "id": "05755f38",
   "metadata": {},
   "outputs": [],
   "source": []
  },
  {
   "cell_type": "code",
   "execution_count": null,
   "id": "1bf204aa",
   "metadata": {},
   "outputs": [],
   "source": []
  },
  {
   "cell_type": "code",
   "execution_count": null,
   "id": "869f6701",
   "metadata": {},
   "outputs": [],
   "source": []
  },
  {
   "cell_type": "code",
   "execution_count": null,
   "id": "da6a8e36",
   "metadata": {},
   "outputs": [],
   "source": []
  },
  {
   "cell_type": "code",
   "execution_count": 39,
   "id": "978b6263",
   "metadata": {},
   "outputs": [],
   "source": [
    "# df1['VehiclePrice'].unique()\n",
    "# df1['Days:Policy-Accident'].unique()\n",
    "# df1['Days:Policy-Claim'].unique()\n",
    "# df1['PastNumberOfClaims'].unique()\n",
    "# df1['AgeOfVehicle'].unique()\n",
    "# df1['AgeOfPolicyHolder'].unique()\n",
    "# df1['NumberOfSuppliments'].unique()\n",
    "# df1['AddressChange-Claim'].unique()\n",
    "# df1['NumberOfCars'].unique()\n",
    "# df1['FraudFound'].unique()\n",
    "# df1['PolicyType'].unique()"
   ]
  },
  {
   "cell_type": "code",
   "execution_count": 40,
   "id": "6c2d3bea",
   "metadata": {},
   "outputs": [],
   "source": [
    "# vp_dict={'more than 69,000':6, '20,000 to 29,000':2, '30,000 to 39,000':3,\n",
    "#        'less than 20,000':1, '40,000 to 59,000':4, '60,000 to 69,000':5}\n",
    "# dpa_dict={'more than 30':5, '15 to 30':4, 'none':1, '1 to 7':2, '8 to 15':3}\n",
    "# dpc_dict={'more than 30':4, '15 to 30':3, 'none':1, '8 to 15':2}\n",
    "# pnoc_dict={'none':1, '1':2, '2 to 4':3, 'more than 4':4}\n",
    "# aov={'3 years':3, '6 years':6, '7 years':7, 'more than 7':8, '5 years':5, 'new':1,\n",
    "#        '4 years':4, '2 years':2}\n",
    "# aoph={'26 to 30':4, '31 to 35':5, '41 to 50':7, '51 to 65':8, '21 to 25':3,\n",
    "#        '36 to 40':6, '16 to 17':1, 'over 65':9, '18 to 20':2}\n",
    "# nos={'none':1, 'more than 5':4, '3 to 5':3, '1 to 2':2}\n",
    "# acc={'1 year':2, 'no change':1, '4 to 8 years':4, '2 to 3 years':3,\n",
    "#        'under 6 months':5}\n",
    "# noc={'3 to 4':3, '1 vehicle':1, '2 vehicles':2, '5 to 8':4, 'more than 8':5}\n",
    "# f={'No':0, 'Yes':1}\n",
    "# pt={'Sport - Liability':0, 'Sport - Collision':1, 'Sedan - Liability':4,\n",
    "#        'Utility - All Perils':9, 'Sedan - All Perils':6, 'Sedan - Collision':5,\n",
    "#        'Utility - Collision':8, 'Utility - Liability':7, 'Sport - All Perils':3}"
   ]
  },
  {
   "cell_type": "code",
   "execution_count": 41,
   "id": "7cba26d4",
   "metadata": {},
   "outputs": [],
   "source": [
    "# df1['VehiclePrice']=df['VehiclePrice'].map(vp_dict)\n",
    "# df1['Days:Policy-Accident']=df['Days:Policy-Accident'].map(dpa_dict)\n",
    "# df1['Days:Policy-Claim']=df['Days:Policy-Claim'].map(dpc_dict)\n",
    "# df1['PastNumberOfClaims']=df['PastNumberOfClaims'].map(pnoc_dict)\n",
    "# df1['AgeOfVehicle']=df['AgeOfVehicle'].map(aov)\n",
    "# df1['AgeOfPolicyHolder']=df['AgeOfPolicyHolder'].map(aoph)\n",
    "# df1['NumberOfSuppliments']=df['NumberOfSuppliments'].map(nos)\n",
    "# df1['AddressChange-Claim']=df['AddressChange-Claim'].map(acc)\n",
    "# df1['NumberOfCars']=df['NumberOfCars'].map(noc)\n",
    "# df1['FraudFound']=df['FraudFound'].map(f)\n",
    "# df1['PolicyType']=df['PolicyType'].map(pt)"
   ]
  },
  {
   "cell_type": "code",
   "execution_count": 42,
   "id": "dc76e618",
   "metadata": {},
   "outputs": [],
   "source": [
    "# df1.drop(['VehicleCategory','BasePolicy','Age','Year'],axis=1,inplace=True)"
   ]
  },
  {
   "cell_type": "code",
   "execution_count": 43,
   "id": "aa3420bb",
   "metadata": {},
   "outputs": [],
   "source": [
    "#dropping row with 0's and null values using policy number"
   ]
  },
  {
   "cell_type": "code",
   "execution_count": 44,
   "id": "7e108a05",
   "metadata": {},
   "outputs": [],
   "source": [
    "# df1.drop(df1[df1['PolicyNumber']==1517].index,inplace=True)"
   ]
  },
  {
   "cell_type": "code",
   "execution_count": 45,
   "id": "baa00c63",
   "metadata": {},
   "outputs": [],
   "source": [
    "# df1=df1.reset_index()"
   ]
  },
  {
   "cell_type": "code",
   "execution_count": 46,
   "id": "08e4f100",
   "metadata": {},
   "outputs": [],
   "source": [
    "# df1.drop('index',axis=1,inplace=True)"
   ]
  },
  {
   "cell_type": "code",
   "execution_count": null,
   "id": "fb029f3d",
   "metadata": {},
   "outputs": [],
   "source": []
  },
  {
   "cell_type": "code",
   "execution_count": null,
   "id": "5539f835",
   "metadata": {},
   "outputs": [],
   "source": []
  },
  {
   "cell_type": "code",
   "execution_count": null,
   "id": "62233211",
   "metadata": {},
   "outputs": [],
   "source": []
  },
  {
   "cell_type": "code",
   "execution_count": null,
   "id": "1b6e7cba",
   "metadata": {},
   "outputs": [],
   "source": []
  },
  {
   "cell_type": "code",
   "execution_count": null,
   "id": "6ec881f0",
   "metadata": {},
   "outputs": [],
   "source": []
  },
  {
   "cell_type": "markdown",
   "id": "dbf34c41",
   "metadata": {},
   "source": [
    "# Model"
   ]
  },
  {
   "cell_type": "code",
   "execution_count": 47,
   "id": "c78482a7",
   "metadata": {},
   "outputs": [],
   "source": [
    "# df1.drop(['WeekOfMonth','DayOfWeek','DayOfWeekClaimed',\"PolicyNumber\",\"DriverRating\",\"NumberOfCars\"],axis=1,inplace=True)\n",
    "\n",
    "# from sklearn.model_selection import train_test_split\n",
    "# from sklearn import preprocessing\n",
    "# x = df1.drop(['FraudFound'], axis=1)\n",
    "# y = df1['FraudFound']\n",
    "# x_train, x_test, y_train, y_test = train_test_split(x, y, test_size=0.33, random_state=42)"
   ]
  },
  {
   "cell_type": "code",
   "execution_count": 48,
   "id": "adb470fd",
   "metadata": {},
   "outputs": [],
   "source": [
    "from sklearn.linear_model import LogisticRegression\n",
    "from sklearn.svm import SVC\n",
    "from sklearn.neighbors import KNeighborsClassifier\n",
    "from sklearn.tree import DecisionTreeClassifier\n",
    "from sklearn.ensemble import RandomForestClassifier\n",
    "from sklearn.naive_bayes import GaussianNB\n",
    "\n",
    "model=[]\n",
    "model.append(LogisticRegression(penalty='none'))\n",
    "model.append(SVC())\n",
    "model.append(KNeighborsClassifier())\n",
    "model.append(DecisionTreeClassifier())\n",
    "model.append(RandomForestClassifier())\n",
    "model.append(GaussianNB())"
   ]
  },
  {
   "cell_type": "code",
   "execution_count": 49,
   "id": "b4c27424",
   "metadata": {},
   "outputs": [],
   "source": [
    "from sklearn import metrics\n",
    "from sklearn.metrics import classification_report\n",
    "from sklearn.metrics import confusion_matrix"
   ]
  },
  {
   "cell_type": "code",
   "execution_count": 50,
   "id": "db9fca95",
   "metadata": {},
   "outputs": [],
   "source": [
    "# model_list=['LogisticRegression','SVC','KNeighborsClassifier','DecisionTreeClassifier','RandomForestClassifier','GaussianNB']\n",
    "# acc_list=[]\n",
    "# auc_list=[]\n",
    "# cm_list=[]\n",
    "# prec_list=[]"
   ]
  },
  {
   "cell_type": "code",
   "execution_count": 51,
   "id": "4396fc12",
   "metadata": {},
   "outputs": [],
   "source": [
    "# for m in model:\n",
    "#     m.fit(x_train,y_train)\n",
    "#     y_pred = m.predict(x_test)\n",
    "#     acc_list.append(metrics.accuracy_score(y_test,y_pred))\n",
    "#     prec_list.append(metrics.precision_score(y_test,y_pred))\n",
    "#     fpr,tpr,_=metrics.roc_curve(y_test,y_pred)\n",
    "#     auc_list.append(round(metrics.auc(fpr,tpr),2))\n",
    "#     cm_list.append(confusion_matrix(y_test,y_pred))"
   ]
  },
  {
   "cell_type": "code",
   "execution_count": 52,
   "id": "ab89d812",
   "metadata": {},
   "outputs": [],
   "source": [
    "# from imblearn.over_sampling import SMOTE"
   ]
  },
  {
   "cell_type": "code",
   "execution_count": 53,
   "id": "55be88cb",
   "metadata": {},
   "outputs": [],
   "source": [
    "# s=SMOTE()"
   ]
  },
  {
   "cell_type": "code",
   "execution_count": 54,
   "id": "c5edc7a7",
   "metadata": {},
   "outputs": [],
   "source": [
    "# x_train_smote,y_train_smote = s.fit_resample(x_train,y_train)"
   ]
  },
  {
   "cell_type": "code",
   "execution_count": 55,
   "id": "be0d3322",
   "metadata": {},
   "outputs": [],
   "source": [
    "# y_train.value_counts()"
   ]
  },
  {
   "cell_type": "code",
   "execution_count": 56,
   "id": "c3dd8b20",
   "metadata": {},
   "outputs": [],
   "source": [
    "# y_train_smote.value_counts()"
   ]
  },
  {
   "cell_type": "code",
   "execution_count": 57,
   "id": "b36d8f31",
   "metadata": {},
   "outputs": [],
   "source": [
    "# model_list=['LogisticRegression','SVC','KNeighborsClassifier','DecisionTreeClassifier','RandomForestClassifier','GaussianNB']\n",
    "# acc_list=[]\n",
    "# auc_list=[]\n",
    "# # cm_list=[]\n",
    "# prec_list=[]"
   ]
  },
  {
   "cell_type": "code",
   "execution_count": 58,
   "id": "facbf05d",
   "metadata": {},
   "outputs": [],
   "source": [
    "# for m in model:\n",
    "#     m.fit(x_train,y_train)\n",
    "#     y_pred = m.predict(x_test)\n",
    "#     acc_list.append(metrics.accuracy_score(y_test,y_pred))\n",
    "#     prec_list.append(metrics.precision_score(y_test,y_pred))\n",
    "#     fpr,tpr,_=metrics.roc_curve(y_test,y_pred)\n",
    "#     auc_list.append(round(metrics.auc(fpr,tpr),2))\n",
    "#     cm_list.append(confusion_matrix(y_test,y_pred))"
   ]
  },
  {
   "cell_type": "code",
   "execution_count": 59,
   "id": "1ea98e96",
   "metadata": {},
   "outputs": [],
   "source": [
    "# acc_list"
   ]
  },
  {
   "cell_type": "code",
   "execution_count": 60,
   "id": "14d2330a",
   "metadata": {},
   "outputs": [],
   "source": [
    "# prec_list"
   ]
  },
  {
   "cell_type": "code",
   "execution_count": 61,
   "id": "43084689",
   "metadata": {},
   "outputs": [],
   "source": [
    "# gng with Logistic Regression"
   ]
  },
  {
   "cell_type": "code",
   "execution_count": 62,
   "id": "1357132c",
   "metadata": {},
   "outputs": [],
   "source": [
    "from sklearn.model_selection import StratifiedKFold,cross_val_score,KFold"
   ]
  },
  {
   "cell_type": "code",
   "execution_count": 63,
   "id": "931f1bb2",
   "metadata": {},
   "outputs": [],
   "source": [
    "# model_list=['LogisticRegression','SVC','KNeighborsClassifier','DecisionTreeClassifier','RandomForestClassifier','GaussianNB']\n",
    "# acc_list=[]\n",
    "# auc_list=[]\n",
    "# cv_list=[]\n",
    "# prec_list=[]"
   ]
  },
  {
   "cell_type": "code",
   "execution_count": 64,
   "id": "dc0cd2cf",
   "metadata": {},
   "outputs": [],
   "source": [
    "# for m,n in zip(model,model_list):\n",
    "#     skfold=StratifiedKFold(n_splits=10,shuffle=True,random_state=40)\n",
    "#     cv_res=cross_val_score(m,x_train,y_train,cv=skfold,scoring='accuracy')\n",
    "#     cv_list.append(cv_res)\n",
    "#     msg=\"%s : %f (%f) \" %(n,cv_res.mean(),cv_res.std())\n",
    "#     print(msg)"
   ]
  },
  {
   "cell_type": "code",
   "execution_count": 65,
   "id": "1ec96308",
   "metadata": {
    "scrolled": false
   },
   "outputs": [],
   "source": [
    "# for m,n in zip(model,model_list):\n",
    "#     skfold=StratifiedKFold(n_splits=10,shuffle=True,random_state=40)\n",
    "#     cv_res=cross_val_score(m,x_train,y_train,cv=skfold,scoring='precision')\n",
    "#     cv_list.append(cv_res)\n",
    "#     msg=\"%s : %f (%f) \" %(n,cv_res.mean(),cv_res.std())\n",
    "#     print(msg)"
   ]
  },
  {
   "cell_type": "code",
   "execution_count": 66,
   "id": "31b786bb",
   "metadata": {},
   "outputs": [],
   "source": [
    "# df1['']"
   ]
  },
  {
   "cell_type": "code",
   "execution_count": 67,
   "id": "041db4b5",
   "metadata": {},
   "outputs": [],
   "source": [
    "# df1.drop(['WeekOfMonth','DayOfWeek','DayOfWeekClaimed',\"PolicyNumber\",\"DriverRating\",\"NumberOfCars\",'WitnessPresent_Yes'],axis=1,inplace=True)\n",
    "# # "
   ]
  },
  {
   "cell_type": "code",
   "execution_count": 68,
   "id": "4b70317c",
   "metadata": {},
   "outputs": [],
   "source": [
    "\n",
    "\n",
    "# df1.drop(['WeekOfMonth','DayOfWeek','DayOfWeekClaimed',\"PolicyNumber\",\"DriverRating\",\"NumberOfCars\",'WitnessPresent_Yes'],axis=1,inplace=True)\n",
    "\n",
    "# from sklearn.model_selection import train_test_split\n",
    "# from sklearn import preprocessing\n",
    "# x = df1.drop(['FraudFound'], axis=1)\n",
    "# y = df1['FraudFound']\n",
    "# x_train, x_test, y_train, y_test = train_test_split(x, y, test_size=0.33, random_state=42)\n",
    "\n",
    "# mod=RandomForestClassifier()\n",
    "# skfold=StratifiedKFold(n_splits=12,shuffle=True,random_state=40)\n",
    "# cv_res=cross_val_score(mod,x_train,y_train,cv=skfold,scoring='precision')\n",
    "\n",
    "# msg=\"%s : %f (%f) \" %(mod,cv_res.mean(),cv_res.std())\n",
    "# print(msg)\n",
    "# df1['MonthClaimed']"
   ]
  },
  {
   "cell_type": "code",
   "execution_count": 69,
   "id": "f95a03fd",
   "metadata": {},
   "outputs": [],
   "source": [
    "\n",
    "import pandas as pd\n",
    "import pickle\n",
    "import numpy as np\n",
    "\n",
    "# df=pd.read_csv(\"carclaims.csv\")\n",
    "df1=pd.get_dummies(df,columns=['AccidentArea','Sex','Fault','PoliceReportFiled','WitnessPresent','AgentType'],drop_first=True)\n",
    "from sklearn.preprocessing import LabelEncoder\n",
    "le=LabelEncoder()\n",
    "df1['Make']=le.fit_transform(df1['Make'])\n",
    "df1['MaritalStatus']=le.fit_transform(df1['MaritalStatus'])\n",
    "df1['VehicleCategory']=le.fit_transform(df1['VehicleCategory'])\n",
    "df1['BasePolicy']=le.fit_transform(df1['BasePolicy'])\n",
    "\n",
    "month_dict={'Dec':12, 'Jan':1, 'Oct':10, 'Jun':6, 'Feb':2, 'Nov':12, 'Apr':4, 'Mar':3, 'Aug':8,\n",
    "       'Jul':7, 'May':5, 'Sep':9}\n",
    "dow_dict={'Wednesday':3, 'Friday':5, 'Saturday':6, 'Monday':1, 'Tuesday':2, 'Sunday':7,\n",
    "       'Thursday':4}\n",
    "dowc_dict={'Wednesday':3, 'Friday':5, 'Saturday':6, 'Monday':1, 'Tuesday':2, 'Sunday':7,\n",
    "       'Thursday':4}\n",
    "monthc_dict={'Dec':12, 'Jan':1, 'Oct':10, 'Jun':6, 'Feb':2, 'Nov':12, 'Apr':4, 'Mar':3, 'Aug':8,\n",
    "       'Jul':7, 'May':5, 'Sep':9}\n",
    "\n",
    "# df1.drop(['Month','MonthClaimed'],axis=1,inplace=True)\n",
    "df1['Month']=df1['Month'].map(month_dict).astype(float)\n",
    "df1['DayOfWeek']=df1['DayOfWeek'].map(dow_dict).astype(float)\n",
    "df1['DayOfWeekClaimed']=df1['DayOfWeekClaimed'].map(dowc_dict).astype(float)\n",
    "df1['MonthClaimed']=df1['MonthClaimed'].map(monthc_dict).astype(float)\n",
    "\n",
    "\n",
    "\n",
    "vp_dict={'more than 69,000':6, '20,000 to 29,000':2, '30,000 to 39,000':3,\n",
    "       'less than 20,000':1, '40,000 to 59,000':4, '60,000 to 69,000':5}\n",
    "dpa_dict={'more than 30':5, '15 to 30':4, 'none':1, '1 to 7':2, '8 to 15':3}\n",
    "dpc_dict={'more than 30':4, '15 to 30':3, 'none':1, '8 to 15':2}\n",
    "pnoc_dict={'none':1, '1':2, '2 to 4':3, 'more than 4':4}\n",
    "aov={'3 years':3, '6 years':6, '7 years':7, 'more than 7':8, '5 years':5, 'new':1,\n",
    "       '4 years':4, '2 years':2}\n",
    "aoph={'26 to 30':4, '31 to 35':5, '41 to 50':7, '51 to 65':8, '21 to 25':3,\n",
    "       '36 to 40':6, '16 to 17':1, 'over 65':9, '18 to 20':2}\n",
    "nos={'none':1, 'more than 5':4, '3 to 5':3, '1 to 2':2}\n",
    "acc={'1 year':2, 'no change':1, '4 to 8 years':4, '2 to 3 years':3,\n",
    "       'under 6 months':5}\n",
    "noc={'3 to 4':3, '1 vehicle':1, '2 vehicles':2, '5 to 8':4, 'more than 8':5}\n",
    "f={'No':0, 'Yes':1}\n",
    "pt={'Sport - Liability':0, 'Sport - Collision':1, 'Sedan - Liability':4,\n",
    "       'Utility - All Perils':9, 'Sedan - All Perils':6, 'Sedan - Collision':5,\n",
    "       'Utility - Collision':8, 'Utility - Liability':7, 'Sport - All Perils':3}\n",
    "\n",
    "df1['VehiclePrice']=df['VehiclePrice'].map(vp_dict).astype(float)\n",
    "df1['Days:Policy-Accident']=df['Days:Policy-Accident'].map(dpa_dict).astype(float)\n",
    "df1['Days:Policy-Claim']=df['Days:Policy-Claim'].map(dpc_dict).astype(float)\n",
    "df1['PastNumberOfClaims']=df['PastNumberOfClaims'].map(pnoc_dict).astype(float)\n",
    "df1['AgeOfVehicle']=df['AgeOfVehicle'].map(aov).astype(float)\n",
    "df1['AgeOfPolicyHolder']=df['AgeOfPolicyHolder'].map(aoph).astype(float)\n",
    "df1['NumberOfSuppliments']=df['NumberOfSuppliments'].map(nos).astype(float)\n",
    "df1['AddressChange-Claim']=df['AddressChange-Claim'].map(acc).astype(float)\n",
    "df1['NumberOfCars']=df['NumberOfCars'].map(noc).astype(float)\n",
    "df1['FraudFound']=df['FraudFound'].map(f).astype(float)\n",
    "df1['PolicyType']=df['PolicyType'].map(pt).astype(float)\n",
    "\n",
    "\n",
    "\n",
    "df1.drop(['VehicleCategory','BasePolicy','Age','Year'],axis=1,inplace=True)\n",
    "df1.drop(df1[df1['PolicyNumber']==1517].index,inplace=True)\n",
    "df1=df1.reset_index()\n",
    "df1.drop('index',axis=1,inplace=True)\n",
    "# df1['']\n",
    "df1.drop(['WeekOfMonth','DayOfWeek','DayOfWeekClaimed',\"PolicyNumber\",\"DriverRating\",\"NumberOfCars\",'WitnessPresent_Yes'],axis=1,inplace=True)\n",
    "\n",
    "from sklearn.model_selection import train_test_split\n",
    "from sklearn import preprocessing\n",
    "x = df1.drop(['FraudFound'], axis=1)\n",
    "y = df1['FraudFound']\n",
    "x_train, x_test, y_train, y_test = train_test_split(x, y, test_size=0.33, random_state=42)\n",
    "\n",
    "\n",
    "\n",
    "\n",
    "# from sklearn.model_selection import train_test_split\n",
    "# from sklearn import preprocessing\n",
    "# x = df1.drop(['FraudFound'], axis=1)\n",
    "# y = df1['FraudFound']\n",
    "# x_train, x_test, y_train, y_test = train_test_split(x, y, test_size=0.33, random_state=42)\n",
    "\n",
    "\n",
    "# from sklearn.linear_model import LogisticRegression\n",
    "# lr=LogisticRegression()\n",
    "\n",
    "# model_lr =lr.fit(x_train,y_train)\n",
    "# pickle.dump(model_lr,open('clm.pkl', 'wb'))\n"
   ]
  },
  {
   "cell_type": "code",
   "execution_count": 70,
   "id": "1a0d743e",
   "metadata": {},
   "outputs": [],
   "source": [
    "# from sklearn.model_selection import train_test_split\n",
    "# from sklearn import preprocessing\n",
    "# x = df1.drop(['FraudFound'], axis=1)\n",
    "# y = df1['FraudFound']\n",
    "# x_train, x_test, y_train, y_test = train_test_split(x, y, test_size=0.33, random_state=42)"
   ]
  },
  {
   "cell_type": "code",
   "execution_count": 71,
   "id": "b38f5fcf",
   "metadata": {},
   "outputs": [
    {
     "data": {
      "text/plain": [
       "0.0    14496\n",
       "1.0    14496\n",
       "Name: FraudFound, dtype: int64"
      ]
     },
     "execution_count": 71,
     "metadata": {},
     "output_type": "execute_result"
    }
   ],
   "source": [
    "\n",
    "n1 = df1.FraudFound.value_counts()[0]\n",
    "\n",
    "df_majority = df1[df1.FraudFound==0]\n",
    "df_minority = df1[df1.FraudFound==1]\n",
    "df_minority_upsampled = df_minority.sample(replace=True,n= n1,random_state=42)\n",
    "\n",
    "df_upsampled = pd.concat([df_majority,df_minority_upsampled])\n",
    "df_upsampled.FraudFound.value_counts()\n",
    "# df_upsampled[['FraudFound']]"
   ]
  },
  {
   "cell_type": "code",
   "execution_count": 72,
   "id": "56258b11",
   "metadata": {},
   "outputs": [
    {
     "data": {
      "text/plain": [
       "((19424, 21), (9568, 21), (19424,), (9568,))"
      ]
     },
     "execution_count": 72,
     "metadata": {},
     "output_type": "execute_result"
    }
   ],
   "source": [
    "x = df_upsampled.drop('FraudFound',axis=1)\n",
    "y = df_upsampled['FraudFound']\n",
    "x_train_up,x_test_up,y_train_up,y_test_up = train_test_split(x,y,test_size=0.33,random_state=7)\n",
    "x_train_up.shape, x_test_up.shape, y_train_up.shape, y_test_up.shape"
   ]
  },
  {
   "cell_type": "code",
   "execution_count": 73,
   "id": "b74c447b",
   "metadata": {},
   "outputs": [
    {
     "data": {
      "text/html": [
       "<style>#sk-container-id-1 {color: black;background-color: white;}#sk-container-id-1 pre{padding: 0;}#sk-container-id-1 div.sk-toggleable {background-color: white;}#sk-container-id-1 label.sk-toggleable__label {cursor: pointer;display: block;width: 100%;margin-bottom: 0;padding: 0.3em;box-sizing: border-box;text-align: center;}#sk-container-id-1 label.sk-toggleable__label-arrow:before {content: \"▸\";float: left;margin-right: 0.25em;color: #696969;}#sk-container-id-1 label.sk-toggleable__label-arrow:hover:before {color: black;}#sk-container-id-1 div.sk-estimator:hover label.sk-toggleable__label-arrow:before {color: black;}#sk-container-id-1 div.sk-toggleable__content {max-height: 0;max-width: 0;overflow: hidden;text-align: left;background-color: #f0f8ff;}#sk-container-id-1 div.sk-toggleable__content pre {margin: 0.2em;color: black;border-radius: 0.25em;background-color: #f0f8ff;}#sk-container-id-1 input.sk-toggleable__control:checked~div.sk-toggleable__content {max-height: 200px;max-width: 100%;overflow: auto;}#sk-container-id-1 input.sk-toggleable__control:checked~label.sk-toggleable__label-arrow:before {content: \"▾\";}#sk-container-id-1 div.sk-estimator input.sk-toggleable__control:checked~label.sk-toggleable__label {background-color: #d4ebff;}#sk-container-id-1 div.sk-label input.sk-toggleable__control:checked~label.sk-toggleable__label {background-color: #d4ebff;}#sk-container-id-1 input.sk-hidden--visually {border: 0;clip: rect(1px 1px 1px 1px);clip: rect(1px, 1px, 1px, 1px);height: 1px;margin: -1px;overflow: hidden;padding: 0;position: absolute;width: 1px;}#sk-container-id-1 div.sk-estimator {font-family: monospace;background-color: #f0f8ff;border: 1px dotted black;border-radius: 0.25em;box-sizing: border-box;margin-bottom: 0.5em;}#sk-container-id-1 div.sk-estimator:hover {background-color: #d4ebff;}#sk-container-id-1 div.sk-parallel-item::after {content: \"\";width: 100%;border-bottom: 1px solid gray;flex-grow: 1;}#sk-container-id-1 div.sk-label:hover label.sk-toggleable__label {background-color: #d4ebff;}#sk-container-id-1 div.sk-serial::before {content: \"\";position: absolute;border-left: 1px solid gray;box-sizing: border-box;top: 0;bottom: 0;left: 50%;z-index: 0;}#sk-container-id-1 div.sk-serial {display: flex;flex-direction: column;align-items: center;background-color: white;padding-right: 0.2em;padding-left: 0.2em;position: relative;}#sk-container-id-1 div.sk-item {position: relative;z-index: 1;}#sk-container-id-1 div.sk-parallel {display: flex;align-items: stretch;justify-content: center;background-color: white;position: relative;}#sk-container-id-1 div.sk-item::before, #sk-container-id-1 div.sk-parallel-item::before {content: \"\";position: absolute;border-left: 1px solid gray;box-sizing: border-box;top: 0;bottom: 0;left: 50%;z-index: -1;}#sk-container-id-1 div.sk-parallel-item {display: flex;flex-direction: column;z-index: 1;position: relative;background-color: white;}#sk-container-id-1 div.sk-parallel-item:first-child::after {align-self: flex-end;width: 50%;}#sk-container-id-1 div.sk-parallel-item:last-child::after {align-self: flex-start;width: 50%;}#sk-container-id-1 div.sk-parallel-item:only-child::after {width: 0;}#sk-container-id-1 div.sk-dashed-wrapped {border: 1px dashed gray;margin: 0 0.4em 0.5em 0.4em;box-sizing: border-box;padding-bottom: 0.4em;background-color: white;}#sk-container-id-1 div.sk-label label {font-family: monospace;font-weight: bold;display: inline-block;line-height: 1.2em;}#sk-container-id-1 div.sk-label-container {text-align: center;}#sk-container-id-1 div.sk-container {/* jupyter's `normalize.less` sets `[hidden] { display: none; }` but bootstrap.min.css set `[hidden] { display: none !important; }` so we also need the `!important` here to be able to override the default hidden behavior on the sphinx rendered scikit-learn.org. See: https://github.com/scikit-learn/scikit-learn/issues/21755 */display: inline-block !important;position: relative;}#sk-container-id-1 div.sk-text-repr-fallback {display: none;}</style><div id=\"sk-container-id-1\" class=\"sk-top-container\"><div class=\"sk-text-repr-fallback\"><pre>RandomForestClassifier()</pre><b>In a Jupyter environment, please rerun this cell to show the HTML representation or trust the notebook. <br />On GitHub, the HTML representation is unable to render, please try loading this page with nbviewer.org.</b></div><div class=\"sk-container\" hidden><div class=\"sk-item\"><div class=\"sk-estimator sk-toggleable\"><input class=\"sk-toggleable__control sk-hidden--visually\" id=\"sk-estimator-id-1\" type=\"checkbox\" checked><label for=\"sk-estimator-id-1\" class=\"sk-toggleable__label sk-toggleable__label-arrow\">RandomForestClassifier</label><div class=\"sk-toggleable__content\"><pre>RandomForestClassifier()</pre></div></div></div></div></div>"
      ],
      "text/plain": [
       "RandomForestClassifier()"
      ]
     },
     "execution_count": 73,
     "metadata": {},
     "output_type": "execute_result"
    }
   ],
   "source": [
    "mod=RandomForestClassifier()\n",
    "mod.fit(x_train_up,y_train_up)\n",
    "# skfold=StratifiedKFold(n_splits=10,shuffle=True,random_state=40)\n",
    "# cv_res=cross_val_score(mod,x_train_up,y_train_up,cv=skfold,scoring='accuracy')"
   ]
  },
  {
   "cell_type": "code",
   "execution_count": 74,
   "id": "aa2d19e3",
   "metadata": {},
   "outputs": [
    {
     "name": "stdout",
     "output_type": "stream",
     "text": [
      "              precision    recall  f1-score   support\n",
      "\n",
      "         0.0       1.00      1.00      1.00      4780\n",
      "         1.0       0.94      1.00      0.97       309\n",
      "\n",
      "    accuracy                           1.00      5089\n",
      "   macro avg       0.97      1.00      0.98      5089\n",
      "weighted avg       1.00      1.00      1.00      5089\n",
      "\n"
     ]
    }
   ],
   "source": [
    "print(classification_report(y_test,mod.predict(x_test)))"
   ]
  },
  {
   "cell_type": "code",
   "execution_count": 75,
   "id": "d3adaac1",
   "metadata": {},
   "outputs": [],
   "source": [
    "from sklearn.metrics import confusion_matrix,accuracy_score"
   ]
  },
  {
   "cell_type": "code",
   "execution_count": 76,
   "id": "8947a80a",
   "metadata": {},
   "outputs": [
    {
     "name": "stdout",
     "output_type": "stream",
     "text": [
      "[[4703   50]\n",
      " [   0 4815]]\n"
     ]
    },
    {
     "data": {
      "text/html": [
       "<div>\n",
       "<style scoped>\n",
       "    .dataframe tbody tr th:only-of-type {\n",
       "        vertical-align: middle;\n",
       "    }\n",
       "\n",
       "    .dataframe tbody tr th {\n",
       "        vertical-align: top;\n",
       "    }\n",
       "\n",
       "    .dataframe thead th {\n",
       "        text-align: right;\n",
       "    }\n",
       "</style>\n",
       "<table border=\"1\" class=\"dataframe\">\n",
       "  <thead>\n",
       "    <tr style=\"text-align: right;\">\n",
       "      <th>col_0</th>\n",
       "      <th>0.0</th>\n",
       "      <th>1.0</th>\n",
       "    </tr>\n",
       "    <tr>\n",
       "      <th>FraudFound</th>\n",
       "      <th></th>\n",
       "      <th></th>\n",
       "    </tr>\n",
       "  </thead>\n",
       "  <tbody>\n",
       "    <tr>\n",
       "      <th>0.0</th>\n",
       "      <td>4703</td>\n",
       "      <td>50</td>\n",
       "    </tr>\n",
       "    <tr>\n",
       "      <th>1.0</th>\n",
       "      <td>0</td>\n",
       "      <td>4815</td>\n",
       "    </tr>\n",
       "  </tbody>\n",
       "</table>\n",
       "</div>"
      ],
      "text/plain": [
       "col_0        0.0   1.0\n",
       "FraudFound            \n",
       "0.0         4703    50\n",
       "1.0            0  4815"
      ]
     },
     "execution_count": 76,
     "metadata": {},
     "output_type": "execute_result"
    },
    {
     "data": {
      "image/png": "[encoded data removed]",
      "text/plain": [
       "<Figure size 432x288 with 2 Axes>"
      ]
     },
     "metadata": {
      "needs_background": "light"
     },
     "output_type": "display_data"
    }
   ],
   "source": [
    "conf=confusion_matrix(y_test_up,mod.predict(x_test_up))\n",
    "print(conf)\n",
    "sns.heatmap(conf,annot=True)\n",
    "pd.crosstab(y_test_up,mod.predict(x_test_up))"
   ]
  },
  {
   "cell_type": "code",
   "execution_count": 77,
   "id": "737b1d28",
   "metadata": {},
   "outputs": [
    {
     "name": "stdout",
     "output_type": "stream",
     "text": [
      "Accuracy of the model:\t\t 0.9947742474916388\n"
     ]
    }
   ],
   "source": [
    "mod_upscale_pred=mod.predict(x_test_up)\n",
    "acc_mod_upscale=accuracy_score(y_test_up, mod_upscale_pred)\n",
    "print(\"Accuracy of the model:\\t\\t\",acc_mod_upscale)"
   ]
  },
  {
   "cell_type": "code",
   "execution_count": 78,
   "id": "13688fb3",
   "metadata": {},
   "outputs": [],
   "source": [
    "from sklearn.metrics import roc_auc_score,roc_curve,f1_score"
   ]
  },
  {
   "cell_type": "code",
   "execution_count": 79,
   "id": "0b5810c7",
   "metadata": {},
   "outputs": [
    {
     "name": "stdout",
     "output_type": "stream",
     "text": [
      "Roc AUC: rfc  0.997907949790795\n"
     ]
    },
    {
     "data": {
      "text/plain": [
       "[<matplotlib.lines.Line2D at 0x158dec706d0>]"
      ]
     },
     "execution_count": 79,
     "metadata": {},
     "output_type": "execute_result"
    },
    {
     "data": {
      "image/png": "[encoded data removed]",
      "text/plain": [
       "<Figure size 432x288 with 1 Axes>"
      ]
     },
     "metadata": {
      "needs_background": "light"
     },
     "output_type": "display_data"
    }
   ],
   "source": [
    "print(\"Roc AUC:\"+\" rfc \", roc_auc_score(y_test, mod.predict(x_test),average='macro'))\n",
    "fpr, tpr, thresholds = roc_curve(y_test,mod.predict(x_test))\n",
    "plt.plot(fpr, tpr, label='rfc')"
   ]
  },
  {
   "cell_type": "code",
   "execution_count": null,
   "id": "9a0ed6d6",
   "metadata": {},
   "outputs": [],
   "source": []
  },
  {
   "cell_type": "code",
   "execution_count": 83,
   "id": "f3c1ccf2",
   "metadata": {},
   "outputs": [],
   "source": [
    "model_list=['LogisticRegression','SVC','KNeighborsClassifier','DecisionTreeClassifier','RandomForestClassifier','GaussianNB']\n",
    "acc_list=[]\n",
    "auc_list=[]\n",
    "cm_list=[]\n",
    "prec_list=[]\n",
    "f1_sc=[]"
   ]
  },
  {
   "cell_type": "code",
   "execution_count": 84,
   "id": "d65a3591",
   "metadata": {},
   "outputs": [
    {
     "name": "stderr",
     "output_type": "stream",
     "text": [
      "C:\\Users\\DHRUTI\\anaconda3\\lib\\site-packages\\sklearn\\linear_model\\_logistic.py:1173: FutureWarning: `penalty='none'`has been deprecated in 1.2 and will be removed in 1.4. To keep the past behaviour, set `penalty=None`.\n",
      "  warnings.warn(\n",
      "C:\\Users\\DHRUTI\\anaconda3\\lib\\site-packages\\sklearn\\linear_model\\_logistic.py:458: ConvergenceWarning: lbfgs failed to converge (status=1):\n",
      "STOP: TOTAL NO. of ITERATIONS REACHED LIMIT.\n",
      "\n",
      "Increase the number of iterations (max_iter) or scale the data as shown in:\n",
      "    https://scikit-learn.org/stable/modules/preprocessing.html\n",
      "Please also refer to the documentation for alternative solver options:\n",
      "    https://scikit-learn.org/stable/modules/linear_model.html#logistic-regression\n",
      "  n_iter_i = _check_optimize_result(\n"
     ]
    },
    {
     "name": "stdout",
     "output_type": "stream",
     "text": [
      "              precision    recall  f1-score   support\n",
      "\n",
      "         0.0       0.94      1.00      0.97      4780\n",
      "         1.0       0.67      0.01      0.03       309\n",
      "\n",
      "    accuracy                           0.94      5089\n",
      "   macro avg       0.80      0.51      0.50      5089\n",
      "weighted avg       0.92      0.94      0.91      5089\n",
      "\n"
     ]
    },
    {
     "name": "stderr",
     "output_type": "stream",
     "text": [
      "C:\\Users\\DHRUTI\\anaconda3\\lib\\site-packages\\sklearn\\metrics\\_classification.py:1344: UndefinedMetricWarning: Precision is ill-defined and being set to 0.0 due to no predicted samples. Use `zero_division` parameter to control this behavior.\n",
      "  _warn_prf(average, modifier, msg_start, len(result))\n",
      "C:\\Users\\DHRUTI\\anaconda3\\lib\\site-packages\\sklearn\\metrics\\_classification.py:1344: UndefinedMetricWarning: Precision and F-score are ill-defined and being set to 0.0 in labels with no predicted samples. Use `zero_division` parameter to control this behavior.\n",
      "  _warn_prf(average, modifier, msg_start, len(result))\n",
      "C:\\Users\\DHRUTI\\anaconda3\\lib\\site-packages\\sklearn\\metrics\\_classification.py:1344: UndefinedMetricWarning: Precision and F-score are ill-defined and being set to 0.0 in labels with no predicted samples. Use `zero_division` parameter to control this behavior.\n",
      "  _warn_prf(average, modifier, msg_start, len(result))\n",
      "C:\\Users\\DHRUTI\\anaconda3\\lib\\site-packages\\sklearn\\metrics\\_classification.py:1344: UndefinedMetricWarning: Precision and F-score are ill-defined and being set to 0.0 in labels with no predicted samples. Use `zero_division` parameter to control this behavior.\n",
      "  _warn_prf(average, modifier, msg_start, len(result))\n"
     ]
    },
    {
     "name": "stdout",
     "output_type": "stream",
     "text": [
      "              precision    recall  f1-score   support\n",
      "\n",
      "         0.0       0.94      1.00      0.97      4780\n",
      "         1.0       0.00      0.00      0.00       309\n",
      "\n",
      "    accuracy                           0.94      5089\n",
      "   macro avg       0.47      0.50      0.48      5089\n",
      "weighted avg       0.88      0.94      0.91      5089\n",
      "\n",
      "              precision    recall  f1-score   support\n",
      "\n",
      "         0.0       0.94      1.00      0.97      4780\n",
      "         1.0       0.25      0.02      0.04       309\n",
      "\n",
      "    accuracy                           0.94      5089\n",
      "   macro avg       0.60      0.51      0.50      5089\n",
      "weighted avg       0.90      0.94      0.91      5089\n",
      "\n",
      "              precision    recall  f1-score   support\n",
      "\n",
      "         0.0       0.95      0.93      0.94      4780\n",
      "         1.0       0.15      0.19      0.17       309\n",
      "\n",
      "    accuracy                           0.88      5089\n",
      "   macro avg       0.55      0.56      0.55      5089\n",
      "weighted avg       0.90      0.88      0.89      5089\n",
      "\n",
      "              precision    recall  f1-score   support\n",
      "\n",
      "         0.0       0.94      1.00      0.97      4780\n",
      "         1.0       0.50      0.01      0.03       309\n",
      "\n",
      "    accuracy                           0.94      5089\n",
      "   macro avg       0.72      0.51      0.50      5089\n",
      "weighted avg       0.91      0.94      0.91      5089\n",
      "\n",
      "              precision    recall  f1-score   support\n",
      "\n",
      "         0.0       0.95      0.87      0.91      4780\n",
      "         1.0       0.12      0.27      0.16       309\n",
      "\n",
      "    accuracy                           0.83      5089\n",
      "   macro avg       0.53      0.57      0.53      5089\n",
      "weighted avg       0.90      0.83      0.86      5089\n",
      "\n"
     ]
    }
   ],
   "source": [
    "for m in model:\n",
    "    m.fit(x_train,y_train)\n",
    "    y_pred = m.predict(x_test)\n",
    "    acc_list.append(metrics.accuracy_score(y_test,y_pred))\n",
    "    prec_list.append(metrics.precision_score(y_test,y_pred))\n",
    "    fpr,tpr,_=metrics.roc_curve(y_test,y_pred)\n",
    "    auc_list.append(round(metrics.auc(fpr,tpr),2))\n",
    "    cm_list.append(confusion_matrix(y_test,y_pred))\n",
    "    f1_sc.append(metrics.f1_score(y_test,y_pred))\n",
    "    print(classification_report(y_test,y_pred))"
   ]
  },
  {
   "cell_type": "code",
   "execution_count": null,
   "id": "0219286e",
   "metadata": {},
   "outputs": [],
   "source": [
    "acc_list"
   ]
  },
  {
   "cell_type": "code",
   "execution_count": null,
   "id": "7ca500ff",
   "metadata": {},
   "outputs": [],
   "source": [
    "prec_list"
   ]
  },
  {
   "cell_type": "code",
   "execution_count": 86,
   "id": "d6fbcdb5",
   "metadata": {},
   "outputs": [
    {
     "data": {
      "text/plain": [
       "(array([0, 1, 2, 3, 4, 5]),\n",
       " [Text(0, 0, 'LogisticRegression'),\n",
       "  Text(1, 0, 'SVC'),\n",
       "  Text(2, 0, 'KNeighborsClassifier'),\n",
       "  Text(3, 0, 'DecisionTreeClassifier'),\n",
       "  Text(4, 0, 'RandomForestClassifier'),\n",
       "  Text(5, 0, 'GaussianNB')])"
      ]
     },
     "execution_count": 86,
     "metadata": {},
     "output_type": "execute_result"
    },
    {
     "data": {
      "image/png": "[encoded data removed]",
      "text/plain": [
       "<Figure size 432x288 with 1 Axes>"
      ]
     },
     "metadata": {
      "needs_background": "light"
     },
     "output_type": "display_data"
    }
   ],
   "source": [
    "eval_=pd.DataFrame({'model':model_list,'accuracy':acc_list,'precision':prec_list,'F1 SCORE':f1_sc})\n",
    "eval_\n",
    "ax = eval_.plot.bar(x='model',rot=0, color={\"accuracy\": \"green\", \"precision\": \"red\",'F1 SCORE':\"blue\"})\n",
    "plt.xticks(rotation=45,ha='right')"
   ]
  },
  {
   "cell_type": "code",
   "execution_count": 87,
   "id": "4ca51432",
   "metadata": {},
   "outputs": [
    {
     "name": "stderr",
     "output_type": "stream",
     "text": [
      "C:\\Users\\DHRUTI\\anaconda3\\lib\\site-packages\\sklearn\\linear_model\\_logistic.py:1173: FutureWarning: `penalty='none'`has been deprecated in 1.2 and will be removed in 1.4. To keep the past behaviour, set `penalty=None`.\n",
      "  warnings.warn(\n",
      "C:\\Users\\DHRUTI\\anaconda3\\lib\\site-packages\\sklearn\\linear_model\\_logistic.py:458: ConvergenceWarning: lbfgs failed to converge (status=1):\n",
      "STOP: TOTAL NO. of ITERATIONS REACHED LIMIT.\n",
      "\n",
      "Increase the number of iterations (max_iter) or scale the data as shown in:\n",
      "    https://scikit-learn.org/stable/modules/preprocessing.html\n",
      "Please also refer to the documentation for alternative solver options:\n",
      "    https://scikit-learn.org/stable/modules/linear_model.html#logistic-regression\n",
      "  n_iter_i = _check_optimize_result(\n"
     ]
    },
    {
     "name": "stdout",
     "output_type": "stream",
     "text": [
      "              precision    recall  f1-score   support\n",
      "\n",
      "         0.0       0.70      0.63      0.66      4753\n",
      "         1.0       0.67      0.73      0.70      4815\n",
      "\n",
      "    accuracy                           0.68      9568\n",
      "   macro avg       0.68      0.68      0.68      9568\n",
      "weighted avg       0.68      0.68      0.68      9568\n",
      "\n",
      "              precision    recall  f1-score   support\n",
      "\n",
      "         0.0       0.51      0.96      0.66      4753\n",
      "         1.0       0.68      0.09      0.15      4815\n",
      "\n",
      "    accuracy                           0.52      9568\n",
      "   macro avg       0.59      0.52      0.41      9568\n",
      "weighted avg       0.59      0.52      0.41      9568\n",
      "\n",
      "              precision    recall  f1-score   support\n",
      "\n",
      "         0.0       1.00      0.76      0.86      4753\n",
      "         1.0       0.81      1.00      0.89      4815\n",
      "\n",
      "    accuracy                           0.88      9568\n",
      "   macro avg       0.90      0.88      0.88      9568\n",
      "weighted avg       0.90      0.88      0.88      9568\n",
      "\n",
      "              precision    recall  f1-score   support\n",
      "\n",
      "         0.0       1.00      0.93      0.96      4753\n",
      "         1.0       0.93      1.00      0.97      4815\n",
      "\n",
      "    accuracy                           0.96      9568\n",
      "   macro avg       0.97      0.96      0.96      9568\n",
      "weighted avg       0.97      0.96      0.96      9568\n",
      "\n",
      "              precision    recall  f1-score   support\n",
      "\n",
      "         0.0       1.00      0.99      1.00      4753\n",
      "         1.0       0.99      1.00      1.00      4815\n",
      "\n",
      "    accuracy                           1.00      9568\n",
      "   macro avg       1.00      1.00      1.00      9568\n",
      "weighted avg       1.00      1.00      1.00      9568\n",
      "\n",
      "              precision    recall  f1-score   support\n",
      "\n",
      "         0.0       0.69      0.61      0.64      4753\n",
      "         1.0       0.65      0.73      0.69      4815\n",
      "\n",
      "    accuracy                           0.67      9568\n",
      "   macro avg       0.67      0.67      0.67      9568\n",
      "weighted avg       0.67      0.67      0.67      9568\n",
      "\n"
     ]
    }
   ],
   "source": [
    "model_list=['LogisticRegression','SVC','KNeighborsClassifier','DecisionTreeClassifier','RandomForestClassifier','GaussianNB']\n",
    "acc_list=[]\n",
    "auc_list=[]\n",
    "cm_list=[]\n",
    "prec_list=[]\n",
    "f1_sc=[]\n",
    "\n",
    "for m in model:\n",
    "    m.fit(x_train_up,y_train_up)\n",
    "    y_pred = m.predict(x_test_up)\n",
    "    acc_list.append(metrics.accuracy_score(y_test_up,y_pred))\n",
    "    prec_list.append(metrics.precision_score(y_test_up,y_pred))\n",
    "    fpr,tpr,_=metrics.roc_curve(y_test_up,y_pred)\n",
    "    auc_list.append(round(metrics.auc(fpr,tpr),2))\n",
    "    cm_list.append(confusion_matrix(y_test_up,y_pred))\n",
    "    f1_sc.append(metrics.f1_score(y_test_up,y_pred))\n",
    "    print(classification_report(y_test_up,y_pred))"
   ]
  },
  {
   "cell_type": "code",
   "execution_count": 88,
   "id": "adbe7637",
   "metadata": {},
   "outputs": [
    {
     "data": {
      "text/plain": [
       "[0.6807065217391305,\n",
       " 0.519126254180602,\n",
       " 0.8808528428093646,\n",
       " 0.9646739130434783,\n",
       " 0.9954013377926422,\n",
       " 0.6679556856187291]"
      ]
     },
     "execution_count": 88,
     "metadata": {},
     "output_type": "execute_result"
    }
   ],
   "source": [
    "acc_list"
   ]
  },
  {
   "cell_type": "code",
   "execution_count": 89,
   "id": "12879e9d",
   "metadata": {},
   "outputs": [
    {
     "data": {
      "text/plain": [
       "[0.6658499811534112,\n",
       " 0.6765676567656765,\n",
       " 0.8103360918763722,\n",
       " 0.9344071414709878,\n",
       " 0.9909446388145708,\n",
       " 0.6524571854058079]"
      ]
     },
     "execution_count": 89,
     "metadata": {},
     "output_type": "execute_result"
    }
   ],
   "source": [
    "prec_list"
   ]
  },
  {
   "cell_type": "code",
   "execution_count": 90,
   "id": "a5b5b14e",
   "metadata": {},
   "outputs": [
    {
     "data": {
      "text/plain": [
       "(array([0, 1, 2, 3, 4, 5]),\n",
       " [Text(0, 0, 'LogisticRegression'),\n",
       "  Text(1, 0, 'SVC'),\n",
       "  Text(2, 0, 'KNeighborsClassifier'),\n",
       "  Text(3, 0, 'DecisionTreeClassifier'),\n",
       "  Text(4, 0, 'RandomForestClassifier'),\n",
       "  Text(5, 0, 'GaussianNB')])"
      ]
     },
     "execution_count": 90,
     "metadata": {},
     "output_type": "execute_result"
    },
    {
     "data": {
      "image/png": "[encoded data removed]",
      "text/plain": [
       "<Figure size 432x288 with 1 Axes>"
      ]
     },
     "metadata": {
      "needs_background": "light"
     },
     "output_type": "display_data"
    }
   ],
   "source": [
    "eval_=pd.DataFrame({'model':model_list,'accuracy':acc_list,'precision':prec_list,'F1 SCORE':f1_sc})\n",
    "eval_\n",
    "ax = eval_.plot.bar(x='model',rot=0, color={\"accuracy\": \"green\", \"precision\": \"red\",'f1_score':\"blue\"})\n",
    "plt.xticks(rotation=45,ha='right')"
   ]
  },
  {
   "cell_type": "code",
   "execution_count": 4,
   "id": "0f1c372d",
   "metadata": {},
   "outputs": [
    {
     "data": {
      "text/plain": [
       "Pontiac      3837\n",
       "Toyota       3121\n",
       "Honda        2801\n",
       "Mazda        2354\n",
       "Chevrolet    1681\n",
       "Accura        472\n",
       "Ford          450\n",
       "VW            283\n",
       "Dodge         109\n",
       "Saab          108\n",
       "Mercury        83\n",
       "Saturn         58\n",
       "Nisson         30\n",
       "BMW            15\n",
       "Jaguar          6\n",
       "Porche          5\n",
       "Mecedes         4\n",
       "Ferrari         2\n",
       "Lexus           1\n",
       "Name: Make, dtype: int64"
      ]
     },
     "execution_count": 4,
     "metadata": {},
     "output_type": "execute_result"
    }
   ],
   "source": [
    "df['Make'].value_counts()"
   ]
  },
  {
   "cell_type": "code",
   "execution_count": 5,
   "id": "5178c2cf",
   "metadata": {},
   "outputs": [],
   "source": [
    "make_dict={'Pontiac':1,'Toyota':2,'Honda':3,'Mazda':4,'Chevrolet':5,'Accura':6,'Ford':7,'VW':8,'Dodge':9,'Saab':10,'Mercury':11,'Saturn':12,'Nisson':13,'BMW':14,'Jaguar':15,'Porche':16,'Mecedes':17,'Ferrari':18,'Lexus':19}"
   ]
  },
  {
   "cell_type": "code",
   "execution_count": 7,
   "id": "c07b3df4",
   "metadata": {},
   "outputs": [
    {
     "data": {
      "text/plain": [
       "Married     10625\n",
       "Single       4684\n",
       "Divorced       76\n",
       "Widow          35\n",
       "Name: MaritalStatus, dtype: int64"
      ]
     },
     "execution_count": 7,
     "metadata": {},
     "output_type": "execute_result"
    }
   ],
   "source": [
    "df['MaritalStatus'].value_counts()"
   ]
  },
  {
   "cell_type": "code",
   "execution_count": 8,
   "id": "cb46b69d",
   "metadata": {},
   "outputs": [],
   "source": [
    "mar_dict={'Married':1,'Single':2,'Divorced':3,'Widow':4}"
   ]
  },
  {
   "cell_type": "code",
   "execution_count": null,
   "id": "bf745f70",
   "metadata": {},
   "outputs": [],
   "source": []
  }
 ],
 "metadata": {
  "kernelspec": {
   "display_name": "Python 3 (ipykernel)",
   "language": "python",
   "name": "python3"
  },
  "language_info": {
   "codemirror_mode": {
    "name": "ipython",
    "version": 3
   },
   "file_extension": ".py",
   "mimetype": "text/x-python",
   "name": "python",
   "nbconvert_exporter": "python",
   "pygments_lexer": "ipython3",
   "version": "3.9.12"
  }
 },
 "nbformat": 4,
 "nbformat_minor": 5
}
